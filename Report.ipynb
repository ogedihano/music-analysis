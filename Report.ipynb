{
 "cells": [
  {
   "cell_type": "markdown",
   "metadata": {},
   "source": [
    "# Music playlist database"
   ]
  },
  {
   "cell_type": "markdown",
   "metadata": {},
   "source": [
    "The project relies on the Chinook playlist database provided by Udacity. It answers three simple questions to show my proficiency in SQL for data mining. Here is the ERD of the database in order to understand how tables are joined to one another: "
   ]
  },
  {
   "cell_type": "code",
   "execution_count": 1,
   "metadata": {},
   "outputs": [
    {
     "name": "stdout",
     "output_type": "stream",
     "text": [
      "Note: you may need to restart the kernel to use updated packages.\n"
     ]
    },
    {
     "name": "stderr",
     "output_type": "stream",
     "text": [
      "ERROR: Could not find a version that satisfies the requirement sqlite3 (from versions: none)\n",
      "ERROR: No matching distribution found for sqlite3\n"
     ]
    }
   ],
   "source": [
    "# pip install sqlite3"
   ]
  },
  {
   "cell_type": "code",
   "execution_count": 2,
   "metadata": {},
   "outputs": [],
   "source": [
    "import sqlite3"
   ]
  },
  {
   "cell_type": "code",
   "execution_count": 4,
   "metadata": {},
   "outputs": [
    {
     "name": "stdout",
     "output_type": "stream",
     "text": [
      "Album\n",
      "Artist\n",
      "Customer\n",
      "Employee\n",
      "Genre\n",
      "Invoice\n",
      "InvoiceLine\n",
      "MediaType\n",
      "Playlist\n",
      "PlaylistTrack\n",
      "Track\n"
     ]
    }
   ],
   "source": [
    "import sqlite3\n",
    "\n",
    "# Connect to the database\n",
    "conn = sqlite3.connect('chinook.db')\n",
    "\n",
    "# Create a cursor object\n",
    "cur = conn.cursor()\n",
    "\n",
    "# Execute a query to fetch table names\n",
    "cur.execute(\"SELECT name FROM sqlite_master WHERE type='table';\")\n",
    "\n",
    "# Fetch data\n",
    "tables = cur.fetchall()\n",
    "\n",
    "# Print the table names\n",
    "for table in tables:\n",
    "    print(table[0])\n",
    "\n",
    "# Close the connection\n",
    "conn.close()\n"
   ]
  },
  {
   "cell_type": "code",
   "execution_count": null,
   "metadata": {},
   "outputs": [],
   "source": []
  },
  {
   "cell_type": "code",
   "execution_count": null,
   "metadata": {},
   "outputs": [],
   "source": []
  },
  {
   "cell_type": "markdown",
   "metadata": {},
   "source": [
    "## What are the three most preferred genres?\n"
   ]
  },
  {
   "cell_type": "code",
   "execution_count": 13,
   "metadata": {},
   "outputs": [
    {
     "name": "stdout",
     "output_type": "stream",
     "text": [
      "            music_type  sum_avg_total_sales_by_genre level_sales\n",
      "0                 Rock                         47.52         Top\n",
      "1            Classical                         32.67         Top\n",
      "2                Latin                         23.76         Top\n",
      "3   Alternative & Punk                         12.87      Medium\n",
      "4                Metal                          9.90         Low\n",
      "5                 Jazz                          6.93         Low\n",
      "6             TV Shows                          5.97         Low\n",
      "7                Drama                          3.98         Low\n",
      "8                Blues                          3.96         Low\n",
      "9                World                          2.97         Low\n",
      "10            R&B/Soul                          2.97         Low\n",
      "11         Alternative                          2.97         Low\n",
      "12    Sci Fi & Fantasy                          1.99         Low\n",
      "13              Reggae                          1.98         Low\n",
      "14          Soundtrack                          1.98         Low\n",
      "15         Hip Hop/Rap                          1.98         Low\n",
      "16       Rock And Roll                          0.99         Low\n",
      "17   Electronica/Dance                          0.99         Low\n",
      "18          Bossa Nova                          0.99         Low\n",
      "19      Easy Listening                          0.99         Low\n",
      "20                 Pop                          0.99         Low\n"
     ]
    }
   ],
   "source": [
    "import sqlite3\n",
    "import pandas as pd\n",
    "\n",
    "# Connect to the database\n",
    "conn = sqlite3.connect('chinook.db')\n",
    "\n",
    "# Define the SQL query\n",
    "query = r\"\"\"\n",
    "SELECT\n",
    "  music_type,\n",
    "  SUM(avg_total_sales) AS sum_avg_total_sales_by_genre,\n",
    "  CASE\n",
    "    WHEN SUM(avg_total_sales) >= 20 THEN 'Top'\n",
    "    WHEN SUM(avg_total_sales) > 10 AND\n",
    "         SUM(avg_total_sales) <= 20 THEN 'Medium'\n",
    "    ELSE 'Low'\n",
    "  END AS level_sales\n",
    "FROM (SELECT DISTINCT\n",
    "        Artist.Name AS artist_name,\n",
    "        Genre.Name AS music_type,\n",
    "        COUNT(Album.AlbumId) AS total_album,\n",
    "        AVG(InvoiceLine.UnitPrice * InvoiceLine.Quantity) AS avg_total_sales\n",
    "      FROM Artist\n",
    "      JOIN Album\n",
    "        ON Artist.ArtistId = Album.ArtistId\n",
    "      JOIN Track\n",
    "        ON Album.AlbumId = Track.AlbumId\n",
    "      JOIN Genre\n",
    "        ON Track.GenreId = Genre.GenreId\n",
    "      JOIN InvoiceLine\n",
    "        ON Track.TrackId = InvoiceLine.TrackId\n",
    "      JOIN Invoice\n",
    "        ON InvoiceLine.InvoiceId = Invoice.InvoiceId\n",
    "      GROUP BY Artist.Name) sub\n",
    "GROUP BY music_type\n",
    "ORDER BY sum_avg_total_sales_by_genre DESC;\n",
    "\"\"\"\n",
    "\n",
    "# Execute the query and fetch data into a DataFrame\n",
    "df = pd.read_sql_query(query, conn)\n",
    "\n",
    "# Display the DataFrame\n",
    "print(df)\n",
    "\n",
    "# Close the connection\n",
    "conn.close()\n"
   ]
  },
  {
   "cell_type": "markdown",
   "metadata": {},
   "source": [
    "We looked into the Chinook database to find out what was the volume of sales for each genre and found out what was the most important. It turns out that Rock is by far the most popular music with an average of 47.52 USD in the total of sales. \n",
    "\n",
    "It is almost 70 percent more than their second most profitable genre: Classical (32,67 USD average). The third most popular genre is Latin with 23,76 USD on average. \n",
    "\n",
    "It is an important insight in terms of sales and marketing efforts, the company can put more efforts and budget into the most popular genres to boost the sales. "
   ]
  },
  {
   "cell_type": "code",
   "execution_count": 14,
   "metadata": {},
   "outputs": [
    {
     "data": {
      "image/png": "[encoded data removed]",
      "text/plain": [
       "<Figure size 1000x600 with 1 Axes>"
      ]
     },
     "metadata": {},
     "output_type": "display_data"
    }
   ],
   "source": [
    "import matplotlib.pyplot as plt\n",
    "\n",
    "plt.figure(figsize=(10, 6))\n",
    "colors = {'Top': 'green', 'Medium': 'orange', 'Low': 'red'}\n",
    "plt.bar(df['music_type'], df['sum_avg_total_sales_by_genre'], color=[colors[level] for level in df['level_sales']])\n",
    "plt.xlabel('Genre')\n",
    "plt.ylabel('Total Average Sales')\n",
    "plt.title('Total Average Sales by Genre')\n",
    "plt.xticks(rotation=90)\n",
    "plt.tight_layout()\n",
    "plt.show()\n"
   ]
  },
  {
   "cell_type": "code",
   "execution_count": null,
   "metadata": {},
   "outputs": [],
   "source": []
  },
  {
   "cell_type": "code",
   "execution_count": null,
   "metadata": {},
   "outputs": [],
   "source": []
  },
  {
   "cell_type": "code",
   "execution_count": null,
   "metadata": {},
   "outputs": [],
   "source": []
  },
  {
   "cell_type": "markdown",
   "metadata": {},
   "source": [
    "## Which country was the best buyer in 2009?"
   ]
  },
  {
   "cell_type": "code",
   "execution_count": 15,
   "metadata": {},
   "outputs": [
    {
     "name": "stdout",
     "output_type": "stream",
     "text": [
      "           Country  Total_sales\n",
      "0              USA       103.95\n",
      "1           Canada        57.42\n",
      "2          Germany        53.46\n",
      "3           Brazil        37.62\n",
      "4           France        34.65\n",
      "5   United Kingdom        25.74\n",
      "6           Poland        15.84\n",
      "7            Chile        15.84\n",
      "8         Portugal        11.88\n",
      "9        Australia        11.88\n",
      "10          Norway        10.89\n",
      "11  Czech Republic        10.89\n",
      "12           India         9.90\n",
      "13     Netherlands         8.91\n",
      "14         Finland         8.91\n",
      "15         Ireland         6.93\n",
      "16         Belgium         6.93\n",
      "17          Sweden         5.94\n",
      "18         Denmark         5.94\n",
      "19           Italy         1.98\n",
      "20         Austria         1.98\n",
      "21           Spain         0.99\n"
     ]
    }
   ],
   "source": [
    "import sqlite3\n",
    "import pandas as pd\n",
    "\n",
    "# Connect to the database\n",
    "conn = sqlite3.connect('chinook.db')\n",
    "\n",
    "# Define the SQL query\n",
    "query = r\"\"\"\n",
    "SELECT\n",
    "\n",
    "  Customer.Country,\n",
    "\n",
    "  SUM(InvoiceLine.UnitPrice * InvoiceLine.Quantity) AS Total_sales\n",
    "\n",
    "FROM Artist\n",
    "\n",
    "JOIN Album\n",
    "\n",
    "  ON Artist.ArtistId = Album.ArtistId\n",
    "\n",
    "JOIN Track\n",
    "\n",
    "  ON Album.AlbumId = Track.AlbumId\n",
    "\n",
    "JOIN Genre\n",
    "\n",
    "  ON Track.GenreId = Genre.GenreId\n",
    "\n",
    "JOIN InvoiceLine\n",
    "\n",
    "  ON Track.TrackId = InvoiceLine.TrackId\n",
    "\n",
    "JOIN Invoice\n",
    "\n",
    "  ON InvoiceLine.InvoiceId = Invoice.InvoiceId\n",
    "\n",
    "JOIN Customer\n",
    "\n",
    "  ON Invoice.CustomerId = Customer.CustomerId\n",
    "\n",
    "WHERE Invoice.InvoiceDate BETWEEN '2009-01-01' AND '2009-12-26'\n",
    "\n",
    "GROUP BY 1\n",
    "\n",
    "ORDER BY 2 DESC;\n",
    "\"\"\"\n",
    "\n",
    "# Execute the query and fetch data into a DataFrame\n",
    "df = pd.read_sql_query(query, conn)\n",
    "\n",
    "# Display the DataFrame\n",
    "print(df)\n",
    "\n",
    "# Close the connection\n",
    "conn.close()\n"
   ]
  },
  {
   "cell_type": "code",
   "execution_count": 16,
   "metadata": {},
   "outputs": [
    {
     "data": {
      "image/png": "[encoded data removed]",
      "text/plain": [
       "<Figure size 1000x600 with 1 Axes>"
      ]
     },
     "metadata": {},
     "output_type": "display_data"
    }
   ],
   "source": [
    "plt.figure(figsize=(10, 6))\n",
    "plt.barh(df['Country'], df['Total_sales'], color='skyblue')\n",
    "plt.xlabel('Total Sales')\n",
    "plt.ylabel('Country')\n",
    "plt.title('Top 10 Countries by Total Sales in 2009')\n",
    "plt.gca().invert_yaxis()\n",
    "plt.show()"
   ]
  },
  {
   "cell_type": "markdown",
   "metadata": {},
   "source": [
    "Looking at the total sales in 2009 from our InvoiceLine database, it turns out that the United-States were far ahead in terms of turnover with 104 USD in total. It is 54,8 percent more than their second market, Canada (57 USD). It makes the USA a major market in 2009 in terms of sales. \n",
    "\n",
    "If the company wished to organize a concert with musics related to the 2000s, we can tell them that the USA, Canada and Germany should be the top 3 regions to put their marketing efforts. \n",
    "\n",
    "While the USA leads in total sales, countries such as Canada, Germany, Brazil, and France also demonstrate substantial total sales. This indicates that the music sold by the Chinook store has international appeal and attracts customers from various countries.\n",
    "\n",
    "Countries with lower total sales, such as Portugal, Australia, Poland, and Chile, may represent untapped or emerging markets with growth potential. Understanding the factors influencing sales in these countries can help identify opportunities for expansion and market penetration."
   ]
  },
  {
   "cell_type": "markdown",
   "metadata": {},
   "source": [
    "## Which was the most popular album ever sold on the playlist?"
   ]
  },
  {
   "cell_type": "code",
   "execution_count": 20,
   "metadata": {},
   "outputs": [
    {
     "name": "stdout",
     "output_type": "stream",
     "text": [
      "      Album_Title    Artist_Name Music_Genre  Total_Buy\n",
      "0  Minha Historia  Chico Buarque       Latin         27\n"
     ]
    }
   ],
   "source": [
    "import sqlite3\n",
    "import pandas as pd\n",
    "\n",
    "# Connect to the database\n",
    "conn = sqlite3.connect('chinook.db')\n",
    "\n",
    "# Define the SQL query\n",
    "query = r\"\"\"\n",
    "SELECT\n",
    "    Album.Title AS Album_Title,\n",
    "    Artist.Name AS Artist_Name,\n",
    "    Genre.Name AS Music_Genre,\n",
    "    COUNT(InvoiceLine.InvoiceId) AS Total_Buy\n",
    "FROM\n",
    "    Artist\n",
    "JOIN\n",
    "    Album ON Artist.ArtistId = Album.ArtistId\n",
    "JOIN\n",
    "    Track ON Album.AlbumId = Track.AlbumId\n",
    "JOIN\n",
    "    Genre ON Track.GenreId = Genre.GenreId\n",
    "JOIN\n",
    "    InvoiceLine ON Track.TrackId = InvoiceLine.TrackId\n",
    "JOIN\n",
    "    Invoice ON InvoiceLine.InvoiceId = Invoice.InvoiceId\n",
    "GROUP BY\n",
    "    Album_Title, Artist_Name, Music_Genre\n",
    "ORDER BY\n",
    "    Total_Buy DESC\n",
    "LIMIT 1;\n",
    "\"\"\"\n",
    "\n",
    "# Execute the query and fetch data into a DataFrame\n",
    "df = pd.read_sql_query(query, conn)\n",
    "\n",
    "# Display the DataFrame\n",
    "print(df)\n",
    "\n",
    "# Close the connection\n",
    "conn.close()\n"
   ]
  },
  {
   "cell_type": "code",
   "execution_count": null,
   "metadata": {},
   "outputs": [],
   "source": []
  },
  {
   "cell_type": "markdown",
   "metadata": {},
   "source": [
    "## Who was the employee with the most buys and their favorite genre?"
   ]
  },
  {
   "cell_type": "code",
   "execution_count": 22,
   "metadata": {},
   "outputs": [
    {
     "name": "stdout",
     "output_type": "stream",
     "text": [
      "  FirstName LastName          Music_Type  Total_buy\n",
      "0      Jane  Peacock                Rock     300.96\n",
      "1  Margaret     Park                Rock     297.00\n",
      "2     Steve  Johnson                Rock     228.69\n",
      "3      Jane  Peacock               Latin     137.61\n",
      "4  Margaret     Park               Latin     126.72\n",
      "5     Steve  Johnson               Latin     117.81\n",
      "6  Margaret     Park               Metal      96.03\n",
      "7     Steve  Johnson  Alternative & Punk      88.11\n",
      "8      Jane  Peacock               Metal      85.14\n",
      "9  Margaret     Park  Alternative & Punk      83.16\n"
     ]
    }
   ],
   "source": [
    "import sqlite3\n",
    "import pandas as pd\n",
    "\n",
    "# Connect to the database\n",
    "conn = sqlite3.connect('chinook.db')\n",
    "\n",
    "# Define the SQL query\n",
    "query = r\"\"\"\n",
    "SELECT\n",
    "    Employee.FirstName,\n",
    "    Employee.LastName,\n",
    "    Genre.Name AS Music_Type,\n",
    "    SUM(InvoiceLine.UnitPrice * InvoiceLine.Quantity) AS Total_buy\n",
    "FROM\n",
    "    Employee\n",
    "JOIN\n",
    "    Customer ON Employee.EmployeeId = Customer.SupportRepId\n",
    "JOIN\n",
    "    Invoice ON Customer.CustomerId = Invoice.CustomerId\n",
    "JOIN\n",
    "    InvoiceLine ON Invoice.InvoiceId = InvoiceLine.InvoiceId\n",
    "JOIN\n",
    "    Track ON InvoiceLine.TrackId = Track.TrackId\n",
    "JOIN\n",
    "    Genre ON Track.GenreId = Genre.GenreId\n",
    "GROUP BY\n",
    "    Employee.FirstName,\n",
    "    Employee.LastName,\n",
    "    Genre.Name\n",
    "ORDER BY\n",
    "    Total_buy DESC\n",
    "LIMIT 10;\n",
    "\"\"\"\n",
    "\n",
    "# Execute the query and fetch data into a DataFrame\n",
    "df = pd.read_sql_query(query, conn)\n",
    "\n",
    "# Display the DataFrame\n",
    "print(df)\n",
    "\n",
    "# Close the connection\n",
    "conn.close()\n"
   ]
  },
  {
   "cell_type": "markdown",
   "metadata": {},
   "source": [
    "We asked if employees were also customers. It turns out that out of the 8 employees of the company, 3 (name on the bar charts) from the sales team bought different kind of music genres.\n",
    "\n",
    "The top three sales were for rock music and Jane Peacock was the employee with the most buys with $ 301 in this music genre.\n",
    "\n",
    "If the company was to start an internal communication campaign, these employees could be rewarded with some kind of free pass to buy a rock album of their choice for free for instance."
   ]
  },
  {
   "cell_type": "markdown",
   "metadata": {},
   "source": [
    "### Customer Lifetime Value (CLV)"
   ]
  },
  {
   "cell_type": "code",
   "execution_count": 25,
   "metadata": {},
   "outputs": [
    {
     "name": "stdout",
     "output_type": "stream",
     "text": [
      "    CustomerId           CustomerName  TotalTransactions  TotalPurchases  \\\n",
      "0            6            Helena Holý                  7           49.62   \n",
      "1           26     Richard Cunningham                  7           47.62   \n",
      "2           57             Luis Rojas                  7           46.62   \n",
      "3           45        Ladislav Kovács                  7           45.62   \n",
      "4           46          Hugh O'Reilly                  7           45.62   \n",
      "5           28          Julia Barnett                  7           43.62   \n",
      "6           24          Frank Ralston                  7           43.62   \n",
      "7           37        Fynn Zimmermann                  7           43.62   \n",
      "8           59        Puja Srivastava                  6           36.64   \n",
      "9            7          Astrid Gruber                  7           42.62   \n",
      "10          25         Victor Stevens                  7           42.62   \n",
      "11          44       Terhi Hämäläinen                  7           41.62   \n",
      "12           5  František Wichterlová                  7           40.62   \n",
      "13          43       Isabelle Mercier                  7           40.62   \n",
      "14          48  Johannes Van der Berg                  7           40.62   \n",
      "15          17             Jack Smith                  7           39.62   \n",
      "16          34         João Fernandes                  7           39.62   \n",
      "17           1         Luís Gonçalves                  7           39.62   \n",
      "18           3      François Tremblay                  7           39.62   \n",
      "19           4           Bjørn Hansen                  7           39.62   \n",
      "20          20             Dan Miller                  7           39.62   \n",
      "21          22        Heather Leacock                  7           39.62   \n",
      "22          42           Wyatt Girard                  7           39.62   \n",
      "23          15      Jennifer Peterson                  7           38.62   \n",
      "24          19              Tim Goyer                  7           38.62   \n",
      "25          39        Camille Bernard                  7           38.62   \n",
      "26          40     Dominique Lefebvre                  7           38.62   \n",
      "27          51       Joakim Johansson                  7           38.62   \n",
      "28          58           Manoj Pareek                  7           38.62   \n",
      "29           2          Leonie Köhler                  7           37.62   \n",
      "30           9           Kara Nielsen                  7           37.62   \n",
      "31          10        Eduardo Martins                  7           37.62   \n",
      "32          11        Alexandre Rocha                  7           37.62   \n",
      "33          13         Fernanda Ramos                  7           37.62   \n",
      "34          14           Mark Philips                  7           37.62   \n",
      "35          18        Michelle Brooks                  7           37.62   \n",
      "36          27           Patrick Gray                  7           37.62   \n",
      "37          30         Edward Francis                  7           37.62   \n",
      "38          31            Martha Silk                  7           37.62   \n",
      "39          32         Aaron Mitchell                  7           37.62   \n",
      "40          35       Madalena Sampaio                  7           37.62   \n",
      "41          36       Hannah Schneider                  7           37.62   \n",
      "42          38        Niklas Schröder                  7           37.62   \n",
      "43          41            Marc Dubois                  7           37.62   \n",
      "44          47          Lucas Mancini                  7           37.62   \n",
      "45          49       Stanisław Wójcik                  7           37.62   \n",
      "46          52             Emma Jones                  7           37.62   \n",
      "47          53            Phil Hughes                  7           37.62   \n",
      "48          55            Mark Taylor                  7           37.62   \n",
      "49          56        Diego Gutiérrez                  7           37.62   \n",
      "50           8           Daan Peeters                  7           37.62   \n",
      "51          12        Roberto Almeida                  7           37.62   \n",
      "52          16           Frank Harris                  7           37.62   \n",
      "53          21            Kathy Chase                  7           37.62   \n",
      "54          23            John Gordon                  7           37.62   \n",
      "55          29           Robert Brown                  7           37.62   \n",
      "56          33         Ellie Sullivan                  7           37.62   \n",
      "57          50          Enrique Muñoz                  7           37.62   \n",
      "58          54           Steve Murray                  7           37.62   \n",
      "\n",
      "         CLV  \n",
      "0   7.088571  \n",
      "1   6.802857  \n",
      "2   6.660000  \n",
      "3   6.517143  \n",
      "4   6.517143  \n",
      "5   6.231429  \n",
      "6   6.231429  \n",
      "7   6.231429  \n",
      "8   6.106667  \n",
      "9   6.088571  \n",
      "10  6.088571  \n",
      "11  5.945714  \n",
      "12  5.802857  \n",
      "13  5.802857  \n",
      "14  5.802857  \n",
      "15  5.660000  \n",
      "16  5.660000  \n",
      "17  5.660000  \n",
      "18  5.660000  \n",
      "19  5.660000  \n",
      "20  5.660000  \n",
      "21  5.660000  \n",
      "22  5.660000  \n",
      "23  5.517143  \n",
      "24  5.517143  \n",
      "25  5.517143  \n",
      "26  5.517143  \n",
      "27  5.517143  \n",
      "28  5.517143  \n",
      "29  5.374286  \n",
      "30  5.374286  \n",
      "31  5.374286  \n",
      "32  5.374286  \n",
      "33  5.374286  \n",
      "34  5.374286  \n",
      "35  5.374286  \n",
      "36  5.374286  \n",
      "37  5.374286  \n",
      "38  5.374286  \n",
      "39  5.374286  \n",
      "40  5.374286  \n",
      "41  5.374286  \n",
      "42  5.374286  \n",
      "43  5.374286  \n",
      "44  5.374286  \n",
      "45  5.374286  \n",
      "46  5.374286  \n",
      "47  5.374286  \n",
      "48  5.374286  \n",
      "49  5.374286  \n",
      "50  5.374286  \n",
      "51  5.374286  \n",
      "52  5.374286  \n",
      "53  5.374286  \n",
      "54  5.374286  \n",
      "55  5.374286  \n",
      "56  5.374286  \n",
      "57  5.374286  \n",
      "58  5.374286  \n"
     ]
    }
   ],
   "source": [
    "import sqlite3\n",
    "import pandas as pd\n",
    "\n",
    "# Connect to the database\n",
    "conn = sqlite3.connect('chinook.db')\n",
    "\n",
    "# Define the SQL query\n",
    "query = r\"\"\"\n",
    "SELECT\n",
    "    c.CustomerId,\n",
    "    c.FirstName || ' ' || c.LastName AS CustomerName,\n",
    "    COUNT(DISTINCT i.InvoiceId) AS TotalTransactions,\n",
    "    SUM(i.Total) AS TotalPurchases,\n",
    "    (SUM(i.Total) / COUNT(DISTINCT i.InvoiceDate)) AS CLV\n",
    "FROM\n",
    "    Customer c\n",
    "JOIN\n",
    "    Invoice i ON c.CustomerId = i.CustomerId\n",
    "GROUP BY\n",
    "    c.CustomerId,\n",
    "    CustomerName\n",
    "ORDER BY\n",
    "    CLV DESC;\n",
    "\"\"\"\n",
    "\n",
    "# Execute the query and fetch data into a DataFrame\n",
    "df = pd.read_sql_query(query, conn)\n",
    "\n",
    "# Display the DataFrame\n",
    "print(df)\n",
    "\n",
    "# Close the connection\n",
    "conn.close()\n"
   ]
  },
  {
   "cell_type": "markdown",
   "metadata": {},
   "source": [
    "Customers with higher CLV values are those who have made more purchases over time. These customers are likely to be loyal and contribute significantly to the business's revenue. \n",
    "\n"
   ]
  },
  {
   "cell_type": "code",
   "execution_count": null,
   "metadata": {},
   "outputs": [],
   "source": []
  },
  {
   "cell_type": "code",
   "execution_count": null,
   "metadata": {},
   "outputs": [],
   "source": []
  }
 ],
 "metadata": {
  "kernelspec": {
   "display_name": "Python 3 (ipykernel)",
   "language": "python",
   "name": "python3"
  },
  "language_info": {
   "codemirror_mode": {
    "name": "ipython",
    "version": 3
   },
   "file_extension": ".py",
   "mimetype": "text/x-python",
   "name": "python",
   "nbconvert_exporter": "python",
   "pygments_lexer": "ipython3",
   "version": "3.11.5"
  }
 },
 "nbformat": 4,
 "nbformat_minor": 4
}
